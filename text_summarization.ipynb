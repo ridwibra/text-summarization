{
  "nbformat": 4,
  "nbformat_minor": 0,
  "metadata": {
    "accelerator": "GPU",
    "colab": {
      "name": "text_summarization.ipynb",
      "provenance": [],
      "collapsed_sections": [],
      "authorship_tag": "ABX9TyNo39SMXtc1ayooT1D5B9jQ",
      "include_colab_link": true
    },
    "kernelspec": {
      "display_name": "Python 3",
      "name": "python3"
    },
    "language_info": {
      "name": "python"
    }
  },
  "cells": [
    {
      "cell_type": "markdown",
      "metadata": {
        "id": "view-in-github",
        "colab_type": "text"
      },
      "source": [
        "<a href=\"https://colab.research.google.com/github/ridwibra/text-summarization/blob/main/text_summarization.ipynb\" target=\"_parent\"><img src=\"https://colab.research.google.com/assets/colab-badge.svg\" alt=\"Open In Colab\"/></a>"
      ]
    },
    {
      "cell_type": "code",
      "metadata": {
        "id": "lYSMnoSz8k__"
      },
      "source": [
        "import pandas as pd\n",
        "import tensorflow as tf"
      ],
      "execution_count": 1,
      "outputs": []
    },
    {
      "cell_type": "code",
      "metadata": {
        "id": "4zdNnI2a-D4C"
      },
      "source": [
        "#load the data\n",
        "summary = pd.read_csv('/content/news_summary.csv', encoding='iso-8859-1')\n",
        "raw = pd.read_csv('/content/news_summary_more.csv', encoding='iso-8859-1')"
      ],
      "execution_count": 2,
      "outputs": []
    },
    {
      "cell_type": "code",
      "metadata": {
        "colab": {
          "base_uri": "https://localhost:8080/",
          "height": 292
        },
        "id": "PbAGJ-MX-j_q",
        "outputId": "2140e593-7123-4efd-e126-80429728a0d3"
      },
      "source": [
        "summary.head()"
      ],
      "execution_count": 3,
      "outputs": [
        {
          "output_type": "execute_result",
          "data": {
            "text/html": [
              "<div>\n",
              "<style scoped>\n",
              "    .dataframe tbody tr th:only-of-type {\n",
              "        vertical-align: middle;\n",
              "    }\n",
              "\n",
              "    .dataframe tbody tr th {\n",
              "        vertical-align: top;\n",
              "    }\n",
              "\n",
              "    .dataframe thead th {\n",
              "        text-align: right;\n",
              "    }\n",
              "</style>\n",
              "<table border=\"1\" class=\"dataframe\">\n",
              "  <thead>\n",
              "    <tr style=\"text-align: right;\">\n",
              "      <th></th>\n",
              "      <th>author</th>\n",
              "      <th>date</th>\n",
              "      <th>headlines</th>\n",
              "      <th>read_more</th>\n",
              "      <th>text</th>\n",
              "      <th>ctext</th>\n",
              "    </tr>\n",
              "  </thead>\n",
              "  <tbody>\n",
              "    <tr>\n",
              "      <th>0</th>\n",
              "      <td>Chhavi Tyagi</td>\n",
              "      <td>03 Aug 2017,Thursday</td>\n",
              "      <td>Daman &amp; Diu revokes mandatory Rakshabandhan in...</td>\n",
              "      <td>http://www.hindustantimes.com/india-news/raksh...</td>\n",
              "      <td>The Administration of Union Territory Daman an...</td>\n",
              "      <td>The Daman and Diu administration on Wednesday ...</td>\n",
              "    </tr>\n",
              "    <tr>\n",
              "      <th>1</th>\n",
              "      <td>Daisy Mowke</td>\n",
              "      <td>03 Aug 2017,Thursday</td>\n",
              "      <td>Malaika slams user who trolled her for 'divorc...</td>\n",
              "      <td>http://www.hindustantimes.com/bollywood/malaik...</td>\n",
              "      <td>Malaika Arora slammed an Instagram user who tr...</td>\n",
              "      <td>From her special numbers to TV?appearances, Bo...</td>\n",
              "    </tr>\n",
              "    <tr>\n",
              "      <th>2</th>\n",
              "      <td>Arshiya Chopra</td>\n",
              "      <td>03 Aug 2017,Thursday</td>\n",
              "      <td>'Virgin' now corrected to 'Unmarried' in IGIMS...</td>\n",
              "      <td>http://www.hindustantimes.com/patna/bihar-igim...</td>\n",
              "      <td>The Indira Gandhi Institute of Medical Science...</td>\n",
              "      <td>The Indira Gandhi Institute of Medical Science...</td>\n",
              "    </tr>\n",
              "    <tr>\n",
              "      <th>3</th>\n",
              "      <td>Sumedha Sehra</td>\n",
              "      <td>03 Aug 2017,Thursday</td>\n",
              "      <td>Aaj aapne pakad liya: LeT man Dujana before be...</td>\n",
              "      <td>http://indiatoday.intoday.in/story/abu-dujana-...</td>\n",
              "      <td>Lashkar-e-Taiba's Kashmir commander Abu Dujana...</td>\n",
              "      <td>Lashkar-e-Taiba's Kashmir commander Abu Dujana...</td>\n",
              "    </tr>\n",
              "    <tr>\n",
              "      <th>4</th>\n",
              "      <td>Aarushi Maheshwari</td>\n",
              "      <td>03 Aug 2017,Thursday</td>\n",
              "      <td>Hotel staff to get training to spot signs of s...</td>\n",
              "      <td>http://indiatoday.intoday.in/story/sex-traffic...</td>\n",
              "      <td>Hotels in Maharashtra will train their staff t...</td>\n",
              "      <td>Hotels in Mumbai and other Indian cities are t...</td>\n",
              "    </tr>\n",
              "  </tbody>\n",
              "</table>\n",
              "</div>"
            ],
            "text/plain": [
              "               author  ...                                              ctext\n",
              "0        Chhavi Tyagi  ...  The Daman and Diu administration on Wednesday ...\n",
              "1         Daisy Mowke  ...  From her special numbers to TV?appearances, Bo...\n",
              "2      Arshiya Chopra  ...  The Indira Gandhi Institute of Medical Science...\n",
              "3       Sumedha Sehra  ...  Lashkar-e-Taiba's Kashmir commander Abu Dujana...\n",
              "4  Aarushi Maheshwari  ...  Hotels in Mumbai and other Indian cities are t...\n",
              "\n",
              "[5 rows x 6 columns]"
            ]
          },
          "metadata": {},
          "execution_count": 3
        }
      ]
    },
    {
      "cell_type": "code",
      "metadata": {
        "id": "hafT4wP521kC"
      },
      "source": [
        "gpus = tf.config.experimental.list_physical_devices('GPU')\n",
        "for gpu in gpus:\n",
        "  tf.config.experimental.set_memory_growth(gpu, True)"
      ],
      "execution_count": 4,
      "outputs": []
    },
    {
      "cell_type": "code",
      "metadata": {
        "colab": {
          "base_uri": "https://localhost:8080/"
        },
        "id": "MIAXlV9Z4AZt",
        "outputId": "ad4d4e42-9787-44e1-f5f9-f9d1b22420c3"
      },
      "source": [
        "len(gpus)"
      ],
      "execution_count": 5,
      "outputs": [
        {
          "output_type": "execute_result",
          "data": {
            "text/plain": [
              "1"
            ]
          },
          "metadata": {},
          "execution_count": 5
        }
      ]
    },
    {
      "cell_type": "code",
      "metadata": {
        "id": "nLXPw_3a32Fs"
      },
      "source": [
        ""
      ],
      "execution_count": 5,
      "outputs": []
    },
    {
      "cell_type": "code",
      "metadata": {
        "colab": {
          "base_uri": "https://localhost:8080/",
          "height": 206
        },
        "id": "W2HkD4yoDJOL",
        "outputId": "bc4002f2-1416-4d68-f1b6-53ae64ff8517"
      },
      "source": [
        "raw.head()"
      ],
      "execution_count": 6,
      "outputs": [
        {
          "output_type": "execute_result",
          "data": {
            "text/html": [
              "<div>\n",
              "<style scoped>\n",
              "    .dataframe tbody tr th:only-of-type {\n",
              "        vertical-align: middle;\n",
              "    }\n",
              "\n",
              "    .dataframe tbody tr th {\n",
              "        vertical-align: top;\n",
              "    }\n",
              "\n",
              "    .dataframe thead th {\n",
              "        text-align: right;\n",
              "    }\n",
              "</style>\n",
              "<table border=\"1\" class=\"dataframe\">\n",
              "  <thead>\n",
              "    <tr style=\"text-align: right;\">\n",
              "      <th></th>\n",
              "      <th>headlines</th>\n",
              "      <th>text</th>\n",
              "    </tr>\n",
              "  </thead>\n",
              "  <tbody>\n",
              "    <tr>\n",
              "      <th>0</th>\n",
              "      <td>upGrad learner switches to career in ML &amp; Al w...</td>\n",
              "      <td>Saurav Kant, an alumnus of upGrad and IIIT-B's...</td>\n",
              "    </tr>\n",
              "    <tr>\n",
              "      <th>1</th>\n",
              "      <td>Delhi techie wins free food from Swiggy for on...</td>\n",
              "      <td>Kunal Shah's credit card bill payment platform...</td>\n",
              "    </tr>\n",
              "    <tr>\n",
              "      <th>2</th>\n",
              "      <td>New Zealand end Rohit Sharma-led India's 12-ma...</td>\n",
              "      <td>New Zealand defeated India by 8 wickets in the...</td>\n",
              "    </tr>\n",
              "    <tr>\n",
              "      <th>3</th>\n",
              "      <td>Aegon life iTerm insurance plan helps customer...</td>\n",
              "      <td>With Aegon Life iTerm Insurance plan, customer...</td>\n",
              "    </tr>\n",
              "    <tr>\n",
              "      <th>4</th>\n",
              "      <td>Have known Hirani for yrs, what if MeToo claim...</td>\n",
              "      <td>Speaking about the sexual harassment allegatio...</td>\n",
              "    </tr>\n",
              "  </tbody>\n",
              "</table>\n",
              "</div>"
            ],
            "text/plain": [
              "                                           headlines                                               text\n",
              "0  upGrad learner switches to career in ML & Al w...  Saurav Kant, an alumnus of upGrad and IIIT-B's...\n",
              "1  Delhi techie wins free food from Swiggy for on...  Kunal Shah's credit card bill payment platform...\n",
              "2  New Zealand end Rohit Sharma-led India's 12-ma...  New Zealand defeated India by 8 wickets in the...\n",
              "3  Aegon life iTerm insurance plan helps customer...  With Aegon Life iTerm Insurance plan, customer...\n",
              "4  Have known Hirani for yrs, what if MeToo claim...  Speaking about the sexual harassment allegatio..."
            ]
          },
          "metadata": {},
          "execution_count": 6
        }
      ]
    },
    {
      "cell_type": "code",
      "metadata": {
        "colab": {
          "base_uri": "https://localhost:8080/"
        },
        "id": "JGw-p3Kc6_0I",
        "outputId": "812189c2-9893-4bdb-9936-7d6168d6f434"
      },
      "source": [
        "raw.shape"
      ],
      "execution_count": 7,
      "outputs": [
        {
          "output_type": "execute_result",
          "data": {
            "text/plain": [
              "(98401, 2)"
            ]
          },
          "metadata": {},
          "execution_count": 7
        }
      ]
    },
    {
      "cell_type": "code",
      "metadata": {
        "colab": {
          "base_uri": "https://localhost:8080/"
        },
        "id": "G-CRRCn-7FNy",
        "outputId": "83cffda1-a64e-4d19-8cf5-cf65a51ae0df"
      },
      "source": [
        "summary.shape"
      ],
      "execution_count": 8,
      "outputs": [
        {
          "output_type": "execute_result",
          "data": {
            "text/plain": [
              "(4514, 6)"
            ]
          },
          "metadata": {},
          "execution_count": 8
        }
      ]
    },
    {
      "cell_type": "markdown",
      "metadata": {
        "id": "McI5R-VCGXxH"
      },
      "source": [
        "combine data from the two csv files into a single dataframe"
      ]
    },
    {
      "cell_type": "code",
      "metadata": {
        "id": "8jQ8ITLGDN51"
      },
      "source": [
        "pre1 = raw.iloc[:, 0:2].copy()\n",
        "pre2 = summary.iloc[:, 0:6].copy()"
      ],
      "execution_count": 9,
      "outputs": []
    },
    {
      "cell_type": "code",
      "metadata": {
        "id": "9ZPmldShD5VT"
      },
      "source": [
        "#to increase the intake of possible text values to build a reliable model\n",
        "pre2['text'] = pre2['author'].str.cat(pre2['date'].str.cat(pre2['read_more'].str.cat(pre2['text'].str.cat(pre2['ctext'], sep= ' '), sep=' '), sep=' '), sep=' ')\n",
        "\n",
        "\n",
        "pre = pd.DataFrame()\n",
        "\n",
        "pre['text'] = pd.concat([pre1['text'], pre2['text']], ignore_index=True)\n",
        "pre['summary'] = pd.concat([pre1['headlines'], pre2['headlines']], ignore_index=True)\n"
      ],
      "execution_count": 10,
      "outputs": []
    },
    {
      "cell_type": "code",
      "metadata": {
        "colab": {
          "base_uri": "https://localhost:8080/",
          "height": 206
        },
        "id": "AHaUNJ4gGNZK",
        "outputId": "20606f18-02c0-45d9-9a68-8366a2727f0d"
      },
      "source": [
        "pre.head(5)"
      ],
      "execution_count": 11,
      "outputs": [
        {
          "output_type": "execute_result",
          "data": {
            "text/html": [
              "<div>\n",
              "<style scoped>\n",
              "    .dataframe tbody tr th:only-of-type {\n",
              "        vertical-align: middle;\n",
              "    }\n",
              "\n",
              "    .dataframe tbody tr th {\n",
              "        vertical-align: top;\n",
              "    }\n",
              "\n",
              "    .dataframe thead th {\n",
              "        text-align: right;\n",
              "    }\n",
              "</style>\n",
              "<table border=\"1\" class=\"dataframe\">\n",
              "  <thead>\n",
              "    <tr style=\"text-align: right;\">\n",
              "      <th></th>\n",
              "      <th>text</th>\n",
              "      <th>summary</th>\n",
              "    </tr>\n",
              "  </thead>\n",
              "  <tbody>\n",
              "    <tr>\n",
              "      <th>0</th>\n",
              "      <td>Saurav Kant, an alumnus of upGrad and IIIT-B's...</td>\n",
              "      <td>upGrad learner switches to career in ML &amp; Al w...</td>\n",
              "    </tr>\n",
              "    <tr>\n",
              "      <th>1</th>\n",
              "      <td>Kunal Shah's credit card bill payment platform...</td>\n",
              "      <td>Delhi techie wins free food from Swiggy for on...</td>\n",
              "    </tr>\n",
              "    <tr>\n",
              "      <th>2</th>\n",
              "      <td>New Zealand defeated India by 8 wickets in the...</td>\n",
              "      <td>New Zealand end Rohit Sharma-led India's 12-ma...</td>\n",
              "    </tr>\n",
              "    <tr>\n",
              "      <th>3</th>\n",
              "      <td>With Aegon Life iTerm Insurance plan, customer...</td>\n",
              "      <td>Aegon life iTerm insurance plan helps customer...</td>\n",
              "    </tr>\n",
              "    <tr>\n",
              "      <th>4</th>\n",
              "      <td>Speaking about the sexual harassment allegatio...</td>\n",
              "      <td>Have known Hirani for yrs, what if MeToo claim...</td>\n",
              "    </tr>\n",
              "  </tbody>\n",
              "</table>\n",
              "</div>"
            ],
            "text/plain": [
              "                                                text                                            summary\n",
              "0  Saurav Kant, an alumnus of upGrad and IIIT-B's...  upGrad learner switches to career in ML & Al w...\n",
              "1  Kunal Shah's credit card bill payment platform...  Delhi techie wins free food from Swiggy for on...\n",
              "2  New Zealand defeated India by 8 wickets in the...  New Zealand end Rohit Sharma-led India's 12-ma...\n",
              "3  With Aegon Life iTerm Insurance plan, customer...  Aegon life iTerm insurance plan helps customer...\n",
              "4  Speaking about the sexual harassment allegatio...  Have known Hirani for yrs, what if MeToo claim..."
            ]
          },
          "metadata": {},
          "execution_count": 11
        }
      ]
    },
    {
      "cell_type": "code",
      "metadata": {
        "colab": {
          "base_uri": "https://localhost:8080/"
        },
        "id": "ty-ZCfSv7qGV",
        "outputId": "205fa88e-776e-46a7-c69f-7b3233cadb97"
      },
      "source": [
        "pre.shape"
      ],
      "execution_count": 12,
      "outputs": [
        {
          "output_type": "execute_result",
          "data": {
            "text/plain": [
              "(102915, 2)"
            ]
          },
          "metadata": {},
          "execution_count": 12
        }
      ]
    },
    {
      "cell_type": "markdown",
      "metadata": {
        "id": "B8P1_V04INEM"
      },
      "source": [
        "CLEANING THE DATA"
      ]
    },
    {
      "cell_type": "code",
      "metadata": {
        "id": "z8_OTDqxGrXz"
      },
      "source": [
        "import re"
      ],
      "execution_count": 13,
      "outputs": []
    },
    {
      "cell_type": "code",
      "metadata": {
        "id": "lXg58Zz3Hoh-"
      },
      "source": [
        "\n",
        "# Remove non-alphabetic characters (Data Cleaning)\n",
        "def text_strip(column):\n",
        "\n",
        "    for row in column:\n",
        "        row = re.sub(\"(\\\\t)\", \" \", str(row)).lower()\n",
        "        row = re.sub(\"(\\\\r)\", \" \", str(row)).lower()\n",
        "        row = re.sub(\"(\\\\n)\", \" \", str(row)).lower()\n",
        "\n",
        "        # Remove _ if it occurs more than one time consecutively\n",
        "        row = re.sub(\"(__+)\", \" \", str(row)).lower()\n",
        "\n",
        "        # Remove - if it occurs more than one time consecutively\n",
        "        row = re.sub(\"(--+)\", \" \", str(row)).lower()\n",
        "\n",
        "        # Remove ~ if it occurs more than one time consecutively\n",
        "        row = re.sub(\"(~~+)\", \" \", str(row)).lower()\n",
        "\n",
        "        # Remove + if it occurs more than one time consecutively\n",
        "        row = re.sub(\"(\\+\\++)\", \" \", str(row)).lower()\n",
        "\n",
        "        # Remove . if it occurs more than one time consecutively\n",
        "        row = re.sub(\"(\\.\\.+)\", \" \", str(row)).lower()\n",
        "\n",
        "        # Remove the characters - <>()|&©ø\"',;?~*!\n",
        "        row = re.sub(r\"[<>()|&©ø\\[\\]\\'\\\",;?~*!]\", \" \", str(row)).lower()\n",
        "\n",
        "        # Remove mailto:\n",
        "        row = re.sub(\"(mailto:)\", \" \", str(row)).lower()\n",
        "\n",
        "        # Remove \\x9* in text\n",
        "        row = re.sub(r\"(\\\\x9\\d)\", \" \", str(row)).lower()\n",
        "\n",
        "        # Replace INC nums to INC_NUM\n",
        "        row = re.sub(\"([iI][nN][cC]\\d+)\", \"INC_NUM\", str(row)).lower()\n",
        "\n",
        "        # Replace CM# and CHG# to CM_NUM\n",
        "        row = re.sub(\"([cC][mM]\\d+)|([cC][hH][gG]\\d+)\", \"CM_NUM\", str(row)).lower()\n",
        "\n",
        "        # Remove punctuations at the end of a word\n",
        "        row = re.sub(\"(\\.\\s+)\", \" \", str(row)).lower()\n",
        "        row = re.sub(\"(\\-\\s+)\", \" \", str(row)).lower()\n",
        "        row = re.sub(\"(\\:\\s+)\", \" \", str(row)).lower()\n",
        "\n",
        "        # Replace any url to only the domain name\n",
        "        try:\n",
        "            url = re.search(r\"((https*:\\/*)([^\\/\\s]+))(.[^\\s]+)\", str(row))\n",
        "            repl_url = url.group(3)\n",
        "            row = re.sub(r\"((https*:\\/*)([^\\/\\s]+))(.[^\\s]+)\", repl_url, str(row))\n",
        "        except:\n",
        "            pass\n",
        "\n",
        "        # Remove multiple spaces\n",
        "        row = re.sub(\"(\\s+)\", \" \", str(row)).lower()\n",
        "\n",
        "        # Remove the single character hanging between any two spaces\n",
        "        row = re.sub(\"(\\s+.\\s+)\", \" \", str(row)).lower()\n",
        "\n",
        "        yield row"
      ],
      "execution_count": 14,
      "outputs": []
    },
    {
      "cell_type": "code",
      "metadata": {
        "id": "j_2odokiRFOo"
      },
      "source": [
        "#call the text_strip() function on both the text and summary\n",
        "processed_text = text_strip(pre['text'])\n",
        "processed_summary = text_strip(pre['summary'])"
      ],
      "execution_count": 15,
      "outputs": []
    },
    {
      "cell_type": "markdown",
      "metadata": {
        "id": "GQI4J42xSZP2"
      },
      "source": [
        "load the data as batches using the pipe() method provided by spaCy. This ensures that all pieces of the text and summaries posses the string data type"
      ]
    },
    {
      "cell_type": "code",
      "metadata": {
        "id": "DLR4xc18Rl9s"
      },
      "source": [
        "import spacy\n",
        "from time import time \n",
        "\n",
        "nlp = spacy.load('en', disable=['ner', 'parser'])\n",
        "\n",
        "#process text as batches and yield doc objects in order\n",
        "text = [str(doc) for doc in nlp.pipe(processed_text, batch_size=5000)]\n",
        "summary = ['_START_ ' + str(doc) + ' _END_' for doc in nlp.pipe(processed_summary, batch_size=5000)]"
      ],
      "execution_count": 16,
      "outputs": []
    },
    {
      "cell_type": "markdown",
      "metadata": {
        "id": "Soe5FnzXWvJp"
      },
      "source": [
        "the _START_ and _END_ tokens denote the start and end of the summary, respectively.\n",
        "this will be used later to detect and remove empty summaries"
      ]
    },
    {
      "cell_type": "code",
      "metadata": {
        "colab": {
          "base_uri": "https://localhost:8080/",
          "height": 72
        },
        "id": "HFbD4i4xTo5g",
        "outputId": "f472cae1-83b9-4694-b562-88a3ed7d542a"
      },
      "source": [
        "text[0]"
      ],
      "execution_count": 17,
      "outputs": [
        {
          "output_type": "execute_result",
          "data": {
            "application/vnd.google.colaboratory.intrinsic+json": {
              "type": "string"
            },
            "text/plain": [
              "'saurav kant an alumnus of upgrad and iiit-b pg program in machine learning and artificial intelligence was sr systems engineer at infosys with almost years of work experience the program and upgrad 360-degree career support helped him transition to data scientist at tech mahindra with 90% salary hike upgrad online power learning has powered lakh+ careers.'"
            ]
          },
          "metadata": {},
          "execution_count": 17
        }
      ]
    },
    {
      "cell_type": "code",
      "metadata": {
        "colab": {
          "base_uri": "https://localhost:8080/",
          "height": 36
        },
        "id": "ORxQYhabXH22",
        "outputId": "0994690e-b468-4796-a63c-440f927f060b"
      },
      "source": [
        "summary[0]"
      ],
      "execution_count": 18,
      "outputs": [
        {
          "output_type": "execute_result",
          "data": {
            "application/vnd.google.colaboratory.intrinsic+json": {
              "type": "string"
            },
            "text/plain": [
              "'_START_ upgrad learner switches to career in ml al with 90% salary hike _END_'"
            ]
          },
          "metadata": {},
          "execution_count": 18
        }
      ]
    },
    {
      "cell_type": "markdown",
      "metadata": {
        "id": "4n7MYR3uaLok"
      },
      "source": [
        "**Determine the maximum permissible sequence lengths**"
      ]
    },
    {
      "cell_type": "code",
      "metadata": {
        "id": "PEJXxO8NaDo3"
      },
      "source": [
        "#store the text and summary lists in pandas objects\n",
        "\n",
        "pre['cleaned_text'] = pd.Series(text)\n",
        "pre['cleaned_summary'] = pd.Series(summary)"
      ],
      "execution_count": 19,
      "outputs": []
    },
    {
      "cell_type": "markdown",
      "metadata": {
        "id": "hbnhnGhua6Ph"
      },
      "source": [
        "plot a graph to determine the frequency ranges tied to the lengths of text and summary i.e. determine the range of length of words where the maximum number of texts and summaries fall into"
      ]
    },
    {
      "cell_type": "code",
      "metadata": {
        "colab": {
          "base_uri": "https://localhost:8080/",
          "height": 281
        },
        "id": "9h72kW65ayWq",
        "outputId": "30b8c85e-115a-4386-f03a-4bd202ba0fc7"
      },
      "source": [
        "import matplotlib.pyplot as plt\n",
        "\n",
        "text_count = []\n",
        "summary_count = []\n",
        "\n",
        "for sent in pre['cleaned_text']:\n",
        "    text_count.append(len(sent.split()))\n",
        "    \n",
        "for sent in pre['cleaned_summary']:\n",
        "    summary_count.append(len(sent.split()))\n",
        "\n",
        "graph_df = pd.DataFrame() \n",
        "\n",
        "graph_df['text'] = text_count\n",
        "graph_df['summary'] = summary_count\n",
        "\n",
        "graph_df.hist(bins = 5)\n",
        "plt.show()"
      ],
      "execution_count": 20,
      "outputs": [
        {
          "output_type": "display_data",
          "data": {
            "image/png": "[encoded data removed]",
            "text/plain": [
              "<Figure size 432x288 with 2 Axes>"
            ]
          },
          "metadata": {
            "needs_background": "light"
          }
        }
      ]
    },
    {
      "cell_type": "markdown",
      "metadata": {
        "id": "MZaEcCaOc71f"
      },
      "source": [
        "from the graphs, you can determine the range where the maximum number of words fall into. For summary, you can assign the range to be 0-15\n",
        "To find the range of text which we arent able to clearly decipher from the graph, consider a random range and find the percentage of words falling into that range"
      ]
    },
    {
      "cell_type": "code",
      "metadata": {
        "colab": {
          "base_uri": "https://localhost:8080/"
        },
        "id": "Uvbt-HjOcbci",
        "outputId": "4591987d-786a-4d16-9c95-a2f4659bb0df"
      },
      "source": [
        "#check how much % of text have 0-100 words\n",
        "\n",
        "cnt = 0\n",
        "for i in pre['cleaned_text']:\n",
        "  if len(i.split()) <= 100:\n",
        "    cnt = cnt + 1\n",
        "print(cnt/len(pre['cleaned_text']))"
      ],
      "execution_count": 21,
      "outputs": [
        {
          "output_type": "stream",
          "name": "stdout",
          "text": [
            "0.9578389933440218\n"
          ]
        }
      ]
    },
    {
      "cell_type": "markdown",
      "metadata": {
        "id": "PRLtU0tQeiVK"
      },
      "source": [
        "about 95.8% of the text pieces fall into the 0-100 category. now initialize the maximum permissible lengths of both text and summary"
      ]
    },
    {
      "cell_type": "code",
      "metadata": {
        "id": "01cwh7d9ed0E"
      },
      "source": [
        "#model to summarize the text between 0-15 words for summary and 0-100 words for text\n",
        "max_text_len = 100\n",
        "max_summary_len = 15"
      ],
      "execution_count": 22,
      "outputs": []
    },
    {
      "cell_type": "markdown",
      "metadata": {
        "id": "FIMnU7e-fYMJ"
      },
      "source": [
        "**Selecting Plausible Texts and Summaries**\n",
        "\n",
        "select texts and summaries which are below the maximum lengths as defined above  "
      ]
    },
    {
      "cell_type": "code",
      "metadata": {
        "colab": {
          "base_uri": "https://localhost:8080/",
          "height": 112
        },
        "id": "y4rgMmnKfTcg",
        "outputId": "425ecd60-d23d-4ae2-f997-7188350f1f86"
      },
      "source": [
        "#select the summaries and text which fall below max length\n",
        "\n",
        "import numpy as np\n",
        "\n",
        "cleaned_text = np.array(pre['cleaned_text'])\n",
        "cleaned_summary = np.array(pre['cleaned_summary'])\n",
        "\n",
        "short_text = []\n",
        "short_summary = []\n",
        "for i in range (len(cleaned_text)):\n",
        "  if len(cleaned_summary[i].split()) <= max_summary_len and len(cleaned_text[i].split()) <= max_text_len:\n",
        "    short_text.append(cleaned_text[i])\n",
        "    short_summary.append(cleaned_summary[i])\n",
        "\n",
        "post_pre = pd.DataFrame({'text':short_text, 'summary':short_summary})\n",
        "\n",
        "post_pre.head(2)"
      ],
      "execution_count": 23,
      "outputs": [
        {
          "output_type": "execute_result",
          "data": {
            "text/html": [
              "<div>\n",
              "<style scoped>\n",
              "    .dataframe tbody tr th:only-of-type {\n",
              "        vertical-align: middle;\n",
              "    }\n",
              "\n",
              "    .dataframe tbody tr th {\n",
              "        vertical-align: top;\n",
              "    }\n",
              "\n",
              "    .dataframe thead th {\n",
              "        text-align: right;\n",
              "    }\n",
              "</style>\n",
              "<table border=\"1\" class=\"dataframe\">\n",
              "  <thead>\n",
              "    <tr style=\"text-align: right;\">\n",
              "      <th></th>\n",
              "      <th>text</th>\n",
              "      <th>summary</th>\n",
              "    </tr>\n",
              "  </thead>\n",
              "  <tbody>\n",
              "    <tr>\n",
              "      <th>0</th>\n",
              "      <td>saurav kant an alumnus of upgrad and iiit-b pg...</td>\n",
              "      <td>_START_ upgrad learner switches to career in m...</td>\n",
              "    </tr>\n",
              "    <tr>\n",
              "      <th>1</th>\n",
              "      <td>kunal shah credit card bill payment platform c...</td>\n",
              "      <td>_START_ delhi techie wins free food from swigg...</td>\n",
              "    </tr>\n",
              "  </tbody>\n",
              "</table>\n",
              "</div>"
            ],
            "text/plain": [
              "                                                text                                            summary\n",
              "0  saurav kant an alumnus of upgrad and iiit-b pg...  _START_ upgrad learner switches to career in m...\n",
              "1  kunal shah credit card bill payment platform c...  _START_ delhi techie wins free food from swigg..."
            ]
          },
          "metadata": {},
          "execution_count": 23
        }
      ]
    },
    {
      "cell_type": "markdown",
      "metadata": {
        "id": "WRKN5ShihSMX"
      },
      "source": [
        "now add start of the sequence (sostok) and end of the sequence (eostok) to denote start and end of the summaries, respectively. this shall be useful to trigger the star of summarization during the inferencing phase"
      ]
    },
    {
      "cell_type": "code",
      "metadata": {
        "colab": {
          "base_uri": "https://localhost:8080/",
          "height": 112
        },
        "id": "UosOrbm3hJ73",
        "outputId": "8b067ec7-497f-4af4-83c2-26aee170e104"
      },
      "source": [
        "\n",
        "# Add sostok and eostok\n",
        "\n",
        "post_pre['summary'] = post_pre['summary'].apply(lambda x: 'sostok ' + x \\\n",
        "        + ' eostok')\n",
        "\n",
        "post_pre.head(2)"
      ],
      "execution_count": 24,
      "outputs": [
        {
          "output_type": "execute_result",
          "data": {
            "text/html": [
              "<div>\n",
              "<style scoped>\n",
              "    .dataframe tbody tr th:only-of-type {\n",
              "        vertical-align: middle;\n",
              "    }\n",
              "\n",
              "    .dataframe tbody tr th {\n",
              "        vertical-align: top;\n",
              "    }\n",
              "\n",
              "    .dataframe thead th {\n",
              "        text-align: right;\n",
              "    }\n",
              "</style>\n",
              "<table border=\"1\" class=\"dataframe\">\n",
              "  <thead>\n",
              "    <tr style=\"text-align: right;\">\n",
              "      <th></th>\n",
              "      <th>text</th>\n",
              "      <th>summary</th>\n",
              "    </tr>\n",
              "  </thead>\n",
              "  <tbody>\n",
              "    <tr>\n",
              "      <th>0</th>\n",
              "      <td>saurav kant an alumnus of upgrad and iiit-b pg...</td>\n",
              "      <td>sostok _START_ upgrad learner switches to care...</td>\n",
              "    </tr>\n",
              "    <tr>\n",
              "      <th>1</th>\n",
              "      <td>kunal shah credit card bill payment platform c...</td>\n",
              "      <td>sostok _START_ delhi techie wins free food fro...</td>\n",
              "    </tr>\n",
              "  </tbody>\n",
              "</table>\n",
              "</div>"
            ],
            "text/plain": [
              "                                                text                                            summary\n",
              "0  saurav kant an alumnus of upgrad and iiit-b pg...  sostok _START_ upgrad learner switches to care...\n",
              "1  kunal shah credit card bill payment platform c...  sostok _START_ delhi techie wins free food fro..."
            ]
          },
          "metadata": {},
          "execution_count": 24
        }
      ]
    },
    {
      "cell_type": "markdown",
      "metadata": {
        "id": "7CVaote6iZMJ"
      },
      "source": [
        "**Tokenizing the text**"
      ]
    },
    {
      "cell_type": "code",
      "metadata": {
        "id": "oiFyM1bFiGgH"
      },
      "source": [
        "#split the data into train and test data chunks\n",
        "from sklearn.model_selection import train_test_split\n",
        "\n",
        "x_tr, x_val, y_tr, y_val = train_test_split(\n",
        "    np.array(post_pre[\"text\"]),\n",
        "    np.array(post_pre[\"summary\"]),\n",
        "    test_size=0.1,\n",
        "    random_state=0,\n",
        "    shuffle=True,\n",
        ")"
      ],
      "execution_count": 25,
      "outputs": []
    },
    {
      "cell_type": "code",
      "metadata": {
        "id": "U4eDnsguqFGH"
      },
      "source": [
        "#prepare and tokenize the data\n",
        "from tensorflow.keras.preprocessing.text import Tokenizer\n",
        "from tensorflow.keras.preprocessing.sequence import pad_sequences\n",
        "\n",
        "#prepare a tokenizer on training data\n",
        "x_tokenizer = Tokenizer(char_level=True)\n",
        "x_tokenizer.fit_on_texts(list(x_tr))"
      ],
      "execution_count": 26,
      "outputs": []
    },
    {
      "cell_type": "markdown",
      "metadata": {
        "id": "1aAZRLCzwEY0"
      },
      "source": [
        "find the percentage of occurence of rare words(say, occuring less than 5 times) in the text"
      ]
    },
    {
      "cell_type": "code",
      "metadata": {
        "colab": {
          "base_uri": "https://localhost:8080/"
        },
        "id": "MpILtcOuwC1G",
        "outputId": "64f07178-e38f-46ee-80fc-857867afb705"
      },
      "source": [
        "thresh = 5\n",
        "cnt = 0\n",
        "tot_cnt = 0\n",
        "\n",
        "for key, value in x_tokenizer.word_counts.items():\n",
        "  tot_cnt = tot_cnt + 1\n",
        "  if value < thresh:\n",
        "    cnt = cnt+1\n",
        "print(\"% of rare words in vocabulary: \", (cnt/tot_cnt)*100)"
      ],
      "execution_count": 27,
      "outputs": [
        {
          "output_type": "stream",
          "name": "stdout",
          "text": [
            "% of rare words in vocabulary:  15.315315315315313\n"
          ]
        }
      ]
    },
    {
      "cell_type": "markdown",
      "metadata": {
        "id": "srPUvbDfxJqq"
      },
      "source": [
        "tokenize the text again by considering the total number of words minus the rare occurrences. convert text to numbers and pad them all to the same length"
      ]
    },
    {
      "cell_type": "code",
      "metadata": {
        "colab": {
          "base_uri": "https://localhost:8080/"
        },
        "id": "BIXBSI5exEqI",
        "outputId": "fc859448-7326-49cf-cec5-bd231d0953fd"
      },
      "source": [
        "# Prepare a tokenizer, again -- by not considering the rare words\n",
        "x_tokenizer = Tokenizer(num_words = tot_cnt - cnt, char_level=True) \n",
        "x_tokenizer.fit_on_texts(list(x_tr))\n",
        "\n",
        "# Convert text sequences to integer sequences \n",
        "x_tr_seq = x_tokenizer.texts_to_sequences(x_tr) \n",
        "x_val_seq = x_tokenizer.texts_to_sequences(x_val)\n",
        "\n",
        "# Pad zero upto maximum length\n",
        "x_tr = pad_sequences(x_tr_seq,  maxlen=max_text_len, padding='post')\n",
        "x_val = pad_sequences(x_val_seq, maxlen=max_text_len, padding='post')\n",
        "\n",
        "# Size of vocabulary (+1 for padding token)\n",
        "x_voc = x_tokenizer.num_words + 1\n",
        "\n",
        "print(\"Size of vocabulary in X = {}\".format(x_voc))"
      ],
      "execution_count": 28,
      "outputs": [
        {
          "output_type": "stream",
          "name": "stdout",
          "text": [
            "Size of vocabulary in X = 95\n"
          ]
        }
      ]
    },
    {
      "cell_type": "markdown",
      "metadata": {
        "id": "jA4hmNsRytdT"
      },
      "source": [
        "do the same for the summaries as well"
      ]
    },
    {
      "cell_type": "code",
      "metadata": {
        "colab": {
          "base_uri": "https://localhost:8080/"
        },
        "id": "uIiPgmQ4ypVD",
        "outputId": "0177a151-7210-4e79-dcae-d7f6ec985eb5"
      },
      "source": [
        "# Prepare a tokenizer on testing data\n",
        "y_tokenizer = Tokenizer()   \n",
        "y_tokenizer.fit_on_texts(list(y_tr))\n",
        "\n",
        "thresh = 5\n",
        "\n",
        "cnt = 0\n",
        "tot_cnt = 0\n",
        "\n",
        "for key, value in y_tokenizer.word_counts.items():\n",
        "    tot_cnt = tot_cnt + 1\n",
        "    if value < thresh:\n",
        "        cnt = cnt + 1\n",
        "    \n",
        "print(\"% of rare words in vocabulary:\",(cnt / tot_cnt) * 100)\n",
        "\n",
        "# Prepare a tokenizer, again -- by not considering the rare words\n",
        "y_tokenizer = Tokenizer(num_words=tot_cnt-cnt) \n",
        "y_tokenizer.fit_on_texts(list(y_tr))\n",
        "\n",
        "# Convert text sequences to integer sequences \n",
        "y_tr_seq = y_tokenizer.texts_to_sequences(y_tr) \n",
        "y_val_seq = y_tokenizer.texts_to_sequences(y_val) \n",
        "\n",
        "# Pad zero upto maximum length\n",
        "y_tr = pad_sequences(y_tr_seq, maxlen=max_summary_len, padding='post')\n",
        "y_val = pad_sequences(y_val_seq, maxlen=max_summary_len, padding='post')\n",
        "\n",
        "# Size of vocabulary (+1 for padding token)\n",
        "y_voc = y_tokenizer.num_words + 1\n",
        "\n",
        "print(\"Size of vocabulary in Y = {}\".format(y_voc))"
      ],
      "execution_count": 29,
      "outputs": [
        {
          "output_type": "stream",
          "name": "stdout",
          "text": [
            "% of rare words in vocabulary: 62.55667945587723\n",
            "Size of vocabulary in Y = 12883\n"
          ]
        }
      ]
    },
    {
      "cell_type": "markdown",
      "metadata": {
        "id": "Z0uFeJyfzEpz"
      },
      "source": [
        "**Removing empty texts and summaries**"
      ]
    },
    {
      "cell_type": "code",
      "metadata": {
        "id": "Bgs5gwEXzAbT"
      },
      "source": [
        "# Remove empty Summaries, .i.e, which only have 'START' and 'END' tokens\n",
        "ind = []\n",
        "\n",
        "for i in range(len(y_tr)):\n",
        "    cnt = 0\n",
        "    for j in y_tr[i]:\n",
        "        if j != 0:\n",
        "            cnt = cnt + 1\n",
        "    if cnt == 2:\n",
        "        ind.append(i)\n",
        "\n",
        "y_tr = np.delete(y_tr, ind, axis=0)\n",
        "x_tr = np.delete(x_tr, ind, axis=0)"
      ],
      "execution_count": 30,
      "outputs": []
    },
    {
      "cell_type": "markdown",
      "metadata": {
        "id": "Ag3-CpgMzSMm"
      },
      "source": [
        "repeat the same for the validation data as well"
      ]
    },
    {
      "cell_type": "code",
      "metadata": {
        "id": "1g88H-zlzObm"
      },
      "source": [
        "# Remove empty Summaries, .i.e, which only have 'START' and 'END' tokens\n",
        "ind = []\n",
        "for i in range(len(y_val)):\n",
        "    cnt = 0\n",
        "    for j in y_val[i]:\n",
        "        if j != 0:\n",
        "            cnt = cnt + 1\n",
        "    if cnt == 2:\n",
        "        ind.append(i)\n",
        "\n",
        "y_val = np.delete(y_val, ind, axis=0)\n",
        "x_val = np.delete(x_val, ind, axis=0)"
      ],
      "execution_count": 31,
      "outputs": []
    },
    {
      "cell_type": "code",
      "metadata": {
        "id": "sNIdubpUz0pA"
      },
      "source": [
        " "
      ],
      "execution_count": 31,
      "outputs": []
    },
    {
      "cell_type": "markdown",
      "metadata": {
        "id": "wETTQLq4zyyB"
      },
      "source": [
        "**Creating the Model**"
      ]
    },
    {
      "cell_type": "code",
      "metadata": {
        "id": "bRQPkwCYzZWt"
      },
      "source": [
        "from tensorflow.keras.preprocessing.text import Tokenizer\n",
        "from tensorflow.keras.preprocessing.sequence import pad_sequences\n",
        "from tensorflow.keras.layers import Input, LSTM, Embedding, Dense, Concatenate, TimeDistributed\n",
        "from tensorflow.keras.models import Model\n",
        "from tensorflow.keras.callbacks import EarlyStopping"
      ],
      "execution_count": 32,
      "outputs": []
    },
    {
      "cell_type": "markdown",
      "metadata": {
        "id": "szj-bY-T0CWn"
      },
      "source": [
        "Next, define the Encoder and Decoder networks.\n",
        "\n",
        "\n",
        "Encoder\n",
        "\n",
        "The input length that the encoder accepts is equal to the maximum text length which you’ve already estimated in Step 3. This is then given to an Embedding Layer of dimension (total number of words captured in the text vocabulary) x (number of nodes in an embedding layer)  (calculated in Step 5; the x_voc variable). This is followed by three LSTM networks wherein each layer returns the LSTM output, as well as the hidden and cell states observed at the previous time steps.\n",
        "\n",
        "\n",
        "\n",
        "\n",
        "Decoder\n",
        "\n",
        "In the decoder, an embedding layer is defined followed by an LSTM network. The initial state of the LSTM network is the last hidden and cell states taken from the encoder. The output of the LSTM is given to a Dense layer wrapped in a TimeDistributed layer with an attached softmax activation function.\n",
        "\n",
        "Altogether, the model accepts encoder (text) and decoder (summary) as input and it outputs the summary. The prediction happens through predicting the upcoming word of the summary from the previous word of the summary (see the below figure).\n"
      ]
    },
    {
      "cell_type": "code",
      "metadata": {
        "colab": {
          "base_uri": "https://localhost:8080/"
        },
        "id": "IpDewN0Mz96Y",
        "outputId": "d80d708e-83eb-4369-9926-e958965b2672"
      },
      "source": [
        "latent_dim = 300\n",
        "embedding_dim = 200\n",
        "\n",
        "# Encoder\n",
        "encoder_inputs = Input(shape=(max_text_len, ))\n",
        "\n",
        "# Embedding layer\n",
        "enc_emb = Embedding(x_voc, embedding_dim,\n",
        "                    trainable=True)(encoder_inputs)\n",
        "\n",
        "# Encoder LSTM 1\n",
        "encoder_lstm1 = LSTM(latent_dim, return_sequences=True,\n",
        "                     return_state=True, dropout=0.4,\n",
        "                     recurrent_dropout=0.4)\n",
        "(encoder_output1, state_h1, state_c1) = encoder_lstm1(enc_emb)\n",
        "\n",
        "# Encoder LSTM 2\n",
        "encoder_lstm2 = LSTM(latent_dim, return_sequences=True,\n",
        "                     return_state=True, dropout=0.4,\n",
        "                     recurrent_dropout=0.4)\n",
        "(encoder_output2, state_h2, state_c2) = encoder_lstm2(encoder_output1)\n",
        "\n",
        "# Encoder LSTM 3\n",
        "encoder_lstm3 = LSTM(latent_dim, return_state=True,\n",
        "                     return_sequences=True, dropout=0.4,\n",
        "                     recurrent_dropout=0.4)\n",
        "(encoder_outputs, state_h, state_c) = encoder_lstm3(encoder_output2)\n",
        "\n",
        "# Set up the decoder, using encoder_states as the initial state\n",
        "decoder_inputs = Input(shape=(None, ))\n",
        "\n",
        "# Embedding layer\n",
        "dec_emb_layer = Embedding(y_voc, embedding_dim, trainable=True)\n",
        "dec_emb = dec_emb_layer(decoder_inputs)\n",
        "\n",
        "# Decoder LSTM\n",
        "decoder_lstm = LSTM(latent_dim, return_sequences=True,\n",
        "                    return_state=True, dropout=0.4,\n",
        "                    recurrent_dropout=0.2)\n",
        "(decoder_outputs, decoder_fwd_state, decoder_back_state) = \\\n",
        "    decoder_lstm(dec_emb, initial_state=[state_h, state_c])\n",
        "\n",
        "# Dense layer\n",
        "decoder_dense = TimeDistributed(Dense(y_voc, activation='softmax'))\n",
        "decoder_outputs = decoder_dense(decoder_outputs)\n",
        "\n",
        "# Define the model\n",
        "model = Model([encoder_inputs, decoder_inputs], decoder_outputs)\n",
        "\n",
        "model.summary()"
      ],
      "execution_count": 33,
      "outputs": [
        {
          "output_type": "stream",
          "name": "stdout",
          "text": [
            "WARNING:tensorflow:Layer lstm will not use cuDNN kernels since it doesn't meet the criteria. It will use a generic GPU kernel as fallback when running on GPU.\n",
            "WARNING:tensorflow:Layer lstm_1 will not use cuDNN kernels since it doesn't meet the criteria. It will use a generic GPU kernel as fallback when running on GPU.\n",
            "WARNING:tensorflow:Layer lstm_2 will not use cuDNN kernels since it doesn't meet the criteria. It will use a generic GPU kernel as fallback when running on GPU.\n",
            "WARNING:tensorflow:Layer lstm_3 will not use cuDNN kernels since it doesn't meet the criteria. It will use a generic GPU kernel as fallback when running on GPU.\n",
            "Model: \"model\"\n",
            "__________________________________________________________________________________________________\n",
            " Layer (type)                   Output Shape         Param #     Connected to                     \n",
            "==================================================================================================\n",
            " input_1 (InputLayer)           [(None, 100)]        0           []                               \n",
            "                                                                                                  \n",
            " embedding (Embedding)          (None, 100, 200)     19000       ['input_1[0][0]']                \n",
            "                                                                                                  \n",
            " lstm (LSTM)                    [(None, 100, 300),   601200      ['embedding[0][0]']              \n",
            "                                 (None, 300),                                                     \n",
            "                                 (None, 300)]                                                     \n",
            "                                                                                                  \n",
            " input_2 (InputLayer)           [(None, None)]       0           []                               \n",
            "                                                                                                  \n",
            " lstm_1 (LSTM)                  [(None, 100, 300),   721200      ['lstm[0][0]']                   \n",
            "                                 (None, 300),                                                     \n",
            "                                 (None, 300)]                                                     \n",
            "                                                                                                  \n",
            " embedding_1 (Embedding)        (None, None, 200)    2576600     ['input_2[0][0]']                \n",
            "                                                                                                  \n",
            " lstm_2 (LSTM)                  [(None, 100, 300),   721200      ['lstm_1[0][0]']                 \n",
            "                                 (None, 300),                                                     \n",
            "                                 (None, 300)]                                                     \n",
            "                                                                                                  \n",
            " lstm_3 (LSTM)                  [(None, None, 300),  601200      ['embedding_1[0][0]',            \n",
            "                                 (None, 300),                     'lstm_2[0][1]',                 \n",
            "                                 (None, 300)]                     'lstm_2[0][2]']                 \n",
            "                                                                                                  \n",
            " time_distributed (TimeDistribu  (None, None, 12883)  3877783    ['lstm_3[0][0]']                 \n",
            " ted)                                                                                             \n",
            "                                                                                                  \n",
            "==================================================================================================\n",
            "Total params: 9,118,183\n",
            "Trainable params: 9,118,183\n",
            "Non-trainable params: 0\n",
            "__________________________________________________________________________________________________\n"
          ]
        }
      ]
    },
    {
      "cell_type": "markdown",
      "metadata": {
        "id": "yz9zlqOa05nw"
      },
      "source": [
        "**Training the Model**"
      ]
    },
    {
      "cell_type": "code",
      "metadata": {
        "id": "7A4-a9pM0zKs"
      },
      "source": [
        "model.compile(optimizer='rmsprop', loss='sparse_categorical_crossentropy')\n",
        "\n",
        "es = EarlyStopping(monitor='val_loss', mode='min', verbose=1, patience=2)"
      ],
      "execution_count": 34,
      "outputs": []
    },
    {
      "cell_type": "markdown",
      "metadata": {
        "id": "cZQ4Hh4a1E7D"
      },
      "source": [
        "Next, use the model.fit() method to fit the training data where you can define the batch size to be 128. Send the text and summary (excluding the last word in summary) as the input, and a reshaped summary tensor comprising every word (starting from the second word) as the output (which explains the infusion of intelligence into the model to predict a word, given the previous word). Besides, to enable validation during the training phase, send the validation data as well."
      ]
    },
    {
      "cell_type": "code",
      "metadata": {
        "colab": {
          "base_uri": "https://localhost:8080/"
        },
        "id": "wXExR3wC1B0h",
        "outputId": "fe51725e-51ce-43a2-b2a5-91f3e4cd6531"
      },
      "source": [
        "history = model.fit(\n",
        "    [x_tr, y_tr[:, :-1]],\n",
        "    y_tr.reshape(y_tr.shape[0], y_tr.shape[1], 1)[:, 1:],\n",
        "    epochs=3,\n",
        "    callbacks=[es],\n",
        "    batch_size=128,\n",
        "    validation_data=([x_val, y_val[:, :-1]],\n",
        "                     y_val.reshape(y_val.shape[0], y_val.shape[1], 1)[: , 1:]),)"
      ],
      "execution_count": 43,
      "outputs": [
        {
          "output_type": "stream",
          "name": "stdout",
          "text": [
            "Epoch 1/3\n",
            "692/692 [==============================] - 1390s 2s/step - loss: 4.4463 - val_loss: 4.3584\n",
            "Epoch 2/3\n",
            "692/692 [==============================] - 1396s 2s/step - loss: 4.3423 - val_loss: 4.2840\n",
            "Epoch 3/3\n",
            "692/692 [==============================] - 1397s 2s/step - loss: 4.2721 - val_loss: 4.2287\n"
          ]
        }
      ]
    },
    {
      "cell_type": "markdown",
      "metadata": {
        "id": "0fiGG8Jj1O_R"
      },
      "source": [
        "Next, plot the training and validation loss metrics observed during the training phase."
      ]
    },
    {
      "cell_type": "code",
      "metadata": {
        "colab": {
          "base_uri": "https://localhost:8080/",
          "height": 265
        },
        "id": "vLTE-qiV1Llg",
        "outputId": "b36cd737-28ba-4fd6-8af9-7127ad63fb17"
      },
      "source": [
        "from matplotlib import pyplot\n",
        "\n",
        "pyplot.plot(history.history['loss'], label='train')\n",
        "pyplot.plot(history.history['val_loss'], label='test')\n",
        "pyplot.legend()\n",
        "pyplot.show()"
      ],
      "execution_count": 44,
      "outputs": [
        {
          "output_type": "display_data",
          "data": {
            "image/png": "[encoded data removed]",
            "text/plain": [
              "<Figure size 432x288 with 1 Axes>"
            ]
          },
          "metadata": {
            "needs_background": "light"
          }
        }
      ]
    },
    {
      "cell_type": "markdown",
      "metadata": {
        "id": "gb1lvhug1cvF"
      },
      "source": [
        "**Generating predictions**"
      ]
    },
    {
      "cell_type": "markdown",
      "metadata": {
        "id": "kcmY9OYn1kan"
      },
      "source": [
        "Now that we've trained the model, to generate summaries from the given pieces of text, first reverse map the indices to the words (which has been previously generated using texts_to_sequences in Step 5). Also, map the words to indices from the summaries tokenizer which is to be used to detect the start and end of the sequences."
      ]
    },
    {
      "cell_type": "code",
      "metadata": {
        "id": "mDnw-6bp1ZSa"
      },
      "source": [
        "reverse_target_word_index = y_tokenizer.index_word\n",
        "reverse_source_word_index = x_tokenizer.index_word\n",
        "target_word_index = y_tokenizer.word_index"
      ],
      "execution_count": 45,
      "outputs": []
    },
    {
      "cell_type": "markdown",
      "metadata": {
        "id": "my2PiUcD1uCr"
      },
      "source": [
        "Now define the encoder and decoder inference models to start making the predictions. Use tensorflow.keras.Model() object to create your inference models.\n",
        "\n",
        "An encoder inference model accepts text and returns the output generated from the three LSTMs, and hidden and cell states. A decoder inference model accepts the start of the sequence identifier (sostok) and predicts the upcoming word, eventually leading to predicting the whole summary.\n",
        "\n",
        "Add the following code to define the inference models' architecture."
      ]
    },
    {
      "cell_type": "code",
      "metadata": {
        "id": "FU5Huil31psD"
      },
      "source": [
        "# Inference Models\n",
        "\n",
        "# Encode the input sequence to get the feature vector\n",
        "encoder_model = Model(inputs=encoder_inputs, outputs=[encoder_outputs,\n",
        "                      state_h, state_c])\n",
        "\n",
        "# Decoder setup\n",
        "\n",
        "# Below tensors will hold the states of the previous time step\n",
        "decoder_state_input_h = Input(shape=(latent_dim, ))\n",
        "decoder_state_input_c = Input(shape=(latent_dim, ))\n",
        "decoder_hidden_state_input = Input(shape=(max_text_len, latent_dim))\n",
        "\n",
        "# Get the embeddings of the decoder sequence\n",
        "dec_emb2 = dec_emb_layer(decoder_inputs)\n",
        "\n",
        "# To predict the next word in the sequence, set the initial states to the states from the previous time step\n",
        "(decoder_outputs2, state_h2, state_c2) = decoder_lstm(dec_emb2,\n",
        "        initial_state=[decoder_state_input_h, decoder_state_input_c])\n",
        "\n",
        "# A dense softmax layer to generate prob dist. over the target vocabulary\n",
        "decoder_outputs2 = decoder_dense(decoder_outputs2)\n",
        "\n",
        "# Final decoder model\n",
        "decoder_model = Model([decoder_inputs] + [decoder_hidden_state_input,\n",
        "                      decoder_state_input_h, decoder_state_input_c],\n",
        "                      [decoder_outputs2] + [state_h2, state_c2])"
      ],
      "execution_count": 46,
      "outputs": []
    },
    {
      "cell_type": "markdown",
      "metadata": {
        "id": "ra0r_us912d5"
      },
      "source": [
        "Now define a function decode_sequence() which accepts the input text and outputs the predicted summary. Start with sostok and continue generating words until eostok is encountered or the maximum length of the summary is reached. Predict the upcoming word from a given word by choosing the word which has the maximum probability attached and update the internal state of the decoder accordingly."
      ]
    },
    {
      "cell_type": "code",
      "metadata": {
        "id": "B3IpF4r-11VF"
      },
      "source": [
        "def decode_sequence(input_seq):\n",
        "\n",
        "    # Encode the input as state vectors.\n",
        "    (e_out, e_h, e_c) = encoder_model.predict(input_seq)\n",
        "\n",
        "    # Generate empty target sequence of length 1\n",
        "    target_seq = np.zeros((1, 1))\n",
        "\n",
        "    # Populate the first word of target sequence with the start word.\n",
        "    target_seq[0, 0] = target_word_index['sostok']\n",
        "\n",
        "    stop_condition = False\n",
        "    decoded_sentence = ''\n",
        "\n",
        "    while not stop_condition:\n",
        "        (output_tokens, h, c) = decoder_model.predict([target_seq]\n",
        "                + [e_out, e_h, e_c])\n",
        "\n",
        "        # Sample a token\n",
        "        sampled_token_index = np.argmax(output_tokens[0, -1, :])\n",
        "        sampled_token = reverse_target_word_index[sampled_token_index]\n",
        "\n",
        "        if sampled_token != 'eostok':\n",
        "            decoded_sentence += ' ' + sampled_token\n",
        "\n",
        "        # Exit condition: either hit max length or find the stop word.\n",
        "        if sampled_token == 'eostok' or len(decoded_sentence.split()) \\\n",
        "            >= max_summary_len - 1:\n",
        "            stop_condition = True\n",
        "\n",
        "        # Update the target sequence (of length 1)\n",
        "        target_seq = np.zeros((1, 1))\n",
        "        target_seq[0, 0] = sampled_token_index\n",
        "\n",
        "        # Update internal states\n",
        "        (e_h, e_c) = (h, c)\n",
        "\n",
        "    return decoded_sentence"
      ],
      "execution_count": 47,
      "outputs": []
    },
    {
      "cell_type": "markdown",
      "metadata": {
        "id": "QLLx9xEO2GvT"
      },
      "source": [
        "Define two functions - seq2summary() and seq2text() which convert numeric-representation to string-representation of summary and text respectively."
      ]
    },
    {
      "cell_type": "code",
      "metadata": {
        "id": "M0c9MoAF1-4M"
      },
      "source": [
        "# To convert sequence to summary\n",
        "def seq2summary(input_seq):\n",
        "    newString = ''\n",
        "    for i in input_seq:\n",
        "        if i != 0 and i != target_word_index['sostok'] and i \\\n",
        "            != target_word_index['eostok']:\n",
        "            newString = newString + reverse_target_word_index[i] + ' '\n",
        "\n",
        "    return newString\n",
        "\n",
        "\n",
        "# To convert sequence to text\n",
        "def seq2text(input_seq):\n",
        "    newString = ''\n",
        "    for i in input_seq:\n",
        "        if i != 0:\n",
        "            newString = newString + reverse_source_word_index[i] + ' '\n",
        "\n",
        "    return newString"
      ],
      "execution_count": 48,
      "outputs": []
    },
    {
      "cell_type": "markdown",
      "metadata": {
        "id": "pRQ0AEv72hpi"
      },
      "source": [
        "Finally, generate the predictions by sending in the text."
      ]
    },
    {
      "cell_type": "code",
      "metadata": {
        "colab": {
          "base_uri": "https://localhost:8080/"
        },
        "id": "3f3NBRIZ2dye",
        "outputId": "fb689abd-2ff2-4336-87e4-3006bdbd46d6"
      },
      "source": [
        "for i in range(0, 19):\n",
        "    print('Review:', seq2text(x_tr[i]))\n",
        "    print('Original summary:', seq2summary(y_tr[i]))\n",
        "    print('Predicted summary:', decode_sequence(x_tr[i].reshape(1,\n",
        "           max_text_len)))\n",
        "    print('\\n')"
      ],
      "execution_count": 49,
      "outputs": [
        {
          "output_type": "stream",
          "name": "stdout",
          "text": [
            "Review: s o n   c h i r a g   a s h a   i s   p a s w a n   d a u g h t e r   f r o m   h i s   f i r s t   w i f e   w h i l e   c h i r a g   i s   h i s   s o n   f r o m   h i s   s e c o n d   w i f e . \n",
            "Original summary: start will contest against father ram vilas from daughter end \n",
            "Predicted summary:  start us man jailed for killing woman who killed in delhi end\n",
            "\n",
            "\n",
            "Review: a r t y   f i a n n a   f ã  â ¡ i l   t h e   p o l i t i c a l   c r i s i s   b e g a n   o v e r   f i t z g e r a l d   r o l e   i n   p o l i c e   w h i s t l e b l o w e r   s c a n d a l . \n",
            "Original summary: start irish deputy prime minister resigns to avoid govt collapse end \n",
            "Predicted summary:  start us man jailed for killing woman who killed in delhi end\n",
            "\n",
            "\n",
            "Review:   b u t t l e r   i s   a l s o   o n l y   t h e   s e c o n d   b a t s m a n   a f t e r   s h a n e   w a t s o n   t o   h i t   t w o   s u c c e s s i v e   9 0 +   s c o r e s   i n   i p l . \n",
            "Original summary: start buttler equals sehwag record of most straight 50s in ipl end \n",
            "Predicted summary:  start us man jailed for killing woman who killed in delhi end\n",
            "\n",
            "\n",
            "Review: n t   o n   s a t u r d a y   a p p o i n t e d   i n d i a n   r e v e n u e   s e r v i c e   i r s   o f f i c e r   s a n j a y   k u m a r   m i s h r a   a s   i n t e r i m   e d   c h i e f . \n",
            "Original summary: start enforcement attached assets worth ã¢ââ¹33 500 cr in yrs end \n",
            "Predicted summary:  start us man jailed for killing woman who killed in delhi end\n",
            "\n",
            "\n",
            "Review: 1 4   2 0 1 8   t h e   f a u l t y   p a r t s   i n   t h e   a f f e c t e d   v e h i c l e s   w i l l   b e   r e p l a c e d   f r e e   o f   c o s t   t h e   a u t o m a k e r   s a i d   n \n",
            "Original summary: start maruti recalls its mini trucks over fuel pump issue in india end \n",
            "Predicted summary:  start i am not to be in the film of the film end\n",
            "\n",
            "\n",
            "Review: r a i n i n g   a n d   t h a t   h e   w a s   s e n t   a c r o s s   i n d i a   t o   c a r r y   o u t   s u b v e r s i v e   a c t i v i t i e s   i n   a n d   o u t s i d e   k a s h m i r   \n",
            "Original summary: start pak helped me enter india arrested let terrorist to nia end \n",
            "Predicted summary:  start i am not to be in the film of the film end\n",
            "\n",
            "\n",
            "Review: h i s   k i d n e y s   a r e   f u n c t i o n i n g   h i s   e n t i r e   f a m i l y   d e p e n d s   o n   h i m   f o r   t h e i r   s u r v i v a l   s u n n y   f u r t h e r   w r o t e . \n",
            "Original summary: start sunny asks fans to help staff member battling kidney disease end \n",
            "Predicted summary:  start us man jailed for killing woman who killed in delhi end\n",
            "\n",
            "\n",
            "Review:   e d u c a t i o n   w e   w i l l   s p r e a d   o u t   t h e   p o v e r t y   e r a d i c a t i o n   p r o g r a m   u n d e r   p r o   r a t a   b a s i s   h e   f u r t h e r   s a i d   n \n",
            "Original summary: start most backward classes to get 100 units free power andhra cm end \n",
            "Predicted summary:  start i am not to be in the film of the film end\n",
            "\n",
            "\n",
            "Review: s   d u r i n g   h i s   s u m m i t   w i t h   t r u m p   a b o u t   7 0 0   u s   t r o o p s   r e m a i n   u n a c c o u n t e d   f r o m   t h e   1 9 5 0 - 1 9 5 3   k o r e a n   w a r . \n",
            "Original summary: start n korea has returned remains of 200 us war dead trump end \n",
            "Predicted summary:  start us man jailed for killing woman who killed in delhi end\n",
            "\n",
            "\n",
            "Review: s u v   w h o   h i d   t h e i r   f a c e s   w i t h   o n e   h a n d   t h e   w i t n e s s e s   h a v e   s o u g h t   m o v i n g   t h e   h e a r i n g   t o   a n o t h e r   c o u r t . \n",
            "Original summary: start khan lynching witnesses sons shot at on way to court end \n",
            "Predicted summary:  start us man jailed for killing woman who killed in delhi end\n",
            "\n",
            "\n",
            "Review: h o s e   w e a l t h   d e c l i n e d   $ 4 . 6   b i l l i o n   a s i a   r i c h e s t   p e r s o n   m u k e s h   a m b a n i   a d d e d   $ 4   b i l l i o n   t o   h i s   f o r t u n e . \n",
            "Original summary: start lakshmi mittal lost 10 bn in 2018 ambani added 4 bn end \n",
            "Predicted summary:  start us man jailed for killing woman who killed in delhi end\n",
            "\n",
            "\n",
            "Review: w i   s a i d   m e a n w h i l e   t e j   s a i d   h e   w o n   c o m e   b a c k   h o m e   u n l e s s   h i s   p a r e n t s   a c c e p t   h i s   d e c i s i o n   f o r   d i v o r c e . \n",
            "Original summary: start tej divorce family matter won talk in public tejashwi end \n",
            "Predicted summary:  start us man jailed for killing woman who killed in delhi end\n",
            "\n",
            "\n",
            "Review: a c c o u n t s   o f   l a d y   d o c t o r s   b l a c k m a i l i n g   t h e m   w i t h   o b j e c t i o n a b l e   c o n t e n t   a n d   e x t o r t i n g   m o n e y   f r o m   t h e m . \n",
            "Original summary: start pak jailed for harassing 200 lady doctors nurses end \n",
            "Predicted summary:  start us man jailed for killing woman who killed in delhi end\n",
            "\n",
            "\n",
            "Review: t h e   t r a n s p o r t   d e p a r t m e n t   i s s u e   g u i d e l i n e s   f o r   r e m o v i n g   c h i l d   l o c k   f r o m   c a b s   a n d   c o m m e r c i a l   v e h i c l e s . \n",
            "Original summary: start child lock increases possibility of crime in cabs dcw end \n",
            "Predicted summary:  start us man jailed for killing woman who killed in delhi end\n",
            "\n",
            "\n",
            "Review: b e l i e v e s   g l o b a l   w a r m i n g   i s   c h i n e s e   c o n s p i r a c y   w i t h d r e w   t h e   c o u n t r y   f r o m   t h e   p a r i s   c l i m a t e   a g r e e m e n t . \n",
            "Original summary: start history will judge those denying climate change pope end \n",
            "Predicted summary:  start us man jailed for killing woman who killed in delhi end\n",
            "\n",
            "\n",
            "Review: 1 1 2 5   r e s o l u t i o n   a s   a d v e r t i s e d   b u t   i t   d o e s   n o t   c o n t a i n   t r u e   p i x e l s   w i t h   r e d   b l u e   a n d   g r e e n   s u b p i x e l s . \n",
            "Original summary: start apple lied about iphone screen size resolution lawsuit end \n",
            "Predicted summary:  start us man jailed for killing woman who killed in delhi end\n",
            "\n",
            "\n",
            "Review: e d   t o   ã ¢ â  â ¹ 1 0 1 . 4   c r o r e   o f   l o s s   i n   f y 1 6   f o u n d e d   i n   2 0 1 2   z o o m c a r   h a s   r a i s e d   $ 1 0 3 . 8   m i l l i o n   t i l l   d a t e . \n",
            "Original summary: start zoomcar raises ã¢ââ¹25 crore in debt fund from end \n",
            "Predicted summary:  start us man jailed for killing woman who killed in delhi end\n",
            "\n",
            "\n",
            "Review: r t   a l l   t h e   c h i e f   m i n i s t e r s   w h o   s p e a k   o u t   f o r   t h e   c a u s e   o f   f e d e r a l   s t r u c t u r e   a n d   a u t o n o m y   f o r   s t a t e s   \n",
            "Original summary: start no talk of third front will continue ties with cong dmk end \n",
            "Predicted summary:  start i am not to be in the film of the film end\n",
            "\n",
            "\n",
            "Review: a s t e r n   g a t e   o f   t h e   1 7 t h - c e n t u r y   m o n u m e n t   a n d   s a i d   n o   f u r t h e r   c o n s t r u c t i o n   w i l l   b e   c a r r i e d   o u t   t h e r e . \n",
            "Original summary: start sc stays its order to demolish parking lot near taj mahal end \n",
            "Predicted summary:  start us man jailed for killing woman who killed in delhi end\n",
            "\n",
            "\n"
          ]
        }
      ]
    },
    {
      "cell_type": "code",
      "metadata": {
        "id": "nl8wCnpL2m-Q"
      },
      "source": [
        ""
      ],
      "execution_count": 49,
      "outputs": []
    },
    {
      "cell_type": "code",
      "metadata": {
        "id": "vK-hir8F210R"
      },
      "source": [
        ""
      ],
      "execution_count": 49,
      "outputs": []
    }
  ]
}